{
 "cells": [
  {
   "cell_type": "code",
   "execution_count": 1,
   "metadata": {},
   "outputs": [],
   "source": [
    "import PyPDF2\n",
    "import json"
   ]
  },
  {
   "cell_type": "code",
   "execution_count": 2,
   "metadata": {},
   "outputs": [],
   "source": [
    "def extract_text_by_page(file_path):\n",
    "    \"\"\"\n",
    "    Extracts text from each page of the PDF.\n",
    "    Returns a list where each entry is the text from one page.\n",
    "    \"\"\"\n",
    "    pages = []\n",
    "    with open(file_path, 'rb') as pdf_file:\n",
    "        reader = PyPDF2.PdfReader(pdf_file)\n",
    "        for page in reader.pages:\n",
    "            page_text = page.extract_text()\n",
    "            pages.append(page_text.strip())  # Clean up leading/trailing whitespace\n",
    "    return pages\n",
    "\n",
    "def save_pages_to_json(pages, output_file):\n",
    "    \"\"\"\n",
    "    Saves the list of pages as a JSON file.\n",
    "    Each page corresponds to one paragraph in the JSON.\n",
    "    \"\"\"\n",
    "    with open(output_file, 'w', encoding='utf-8') as json_file:\n",
    "        json.dump({\"pages\": pages}, json_file, ensure_ascii=False, indent=2)\n",
    "\n"
   ]
  },
  {
   "cell_type": "code",
   "execution_count": 3,
   "metadata": {},
   "outputs": [
    {
     "name": "stdout",
     "output_type": "stream",
     "text": [
      "Saved 387 pages to fNIRS_abstract_content.json\n"
     ]
    }
   ],
   "source": [
    "pdf_file_path = '/Users/xiaosuhu/Documents/Python/RAG_fNIRS/AbstractBooklet_fNIRS2024_content.pdf'\n",
    "output_json_path = \"fNIRS_abstract_content.json\"\n",
    "\n",
    "# Extract and save\n",
    "pages = extract_text_by_page(pdf_file_path)\n",
    "save_pages_to_json(pages, output_json_path)\n",
    "\n",
    "# Save paragraphs to a JSON file\n",
    "print(f\"Saved {len(pages)} pages to {output_json_path}\")"
   ]
  },
  {
   "cell_type": "code",
   "execution_count": null,
   "metadata": {},
   "outputs": [],
   "source": []
  }
 ],
 "metadata": {
  "kernelspec": {
   "display_name": "paintrek",
   "language": "python",
   "name": "python3"
  },
  "language_info": {
   "codemirror_mode": {
    "name": "ipython",
    "version": 3
   },
   "file_extension": ".py",
   "mimetype": "text/x-python",
   "name": "python",
   "nbconvert_exporter": "python",
   "pygments_lexer": "ipython3",
   "version": "3.10.14"
  }
 },
 "nbformat": 4,
 "nbformat_minor": 2
}
