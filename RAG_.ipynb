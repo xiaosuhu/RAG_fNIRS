{
 "cells": [
  {
   "cell_type": "code",
   "execution_count": 1,
   "metadata": {},
   "outputs": [],
   "source": [
    "import psycopg2\n",
    "import json"
   ]
  },
  {
   "cell_type": "code",
   "execution_count": 3,
   "metadata": {},
   "outputs": [],
   "source": [
    "# Open the JSON file\n",
    "with open('/Users/xiaosuhu/Documents/Python/RAG_fNIRS/fNIRS_abstract_content.json', 'r') as file:\n",
    "    data = json.load(file)  # Parse JSON into a Python dictionary or list\n",
    "\n"
   ]
  },
  {
   "cell_type": "code",
   "execution_count": 7,
   "metadata": {},
   "outputs": [
    {
     "name": "stdout",
     "output_type": "stream",
     "text": [
      "Mapping neural correlates of biological motion perception in autistic children using high -density diffuse optical tomography  Dalin Yang1, Alexandra M. Svoboda1, Tessa G. George1, Patricia K. Mansfield1, Muriah D. Wheelock1, Mariel L. Schroeder1, Sean M. Rafferty1, Arefeh Sherafati1, Kalyan Tripathy1, Tracy Burns -Yocum1, Elizabeth Forsen1, John R. Pruett, Jr2, Natasha M. Marrus2, Joseph P. Culver1, John N. Constantino3, Adam T. Eggebrecht11Washington University School of Medicine,  Mallinckrodt Institute of Radiology, St. Louis, Missouri 63110, USA . 2Washington University School of Medicine, Department of Psychiatry, St. Louis, Missouri, 63110, USA. 3Emory University School of Medicine, Department of Psychiatry, Atlanta, Georgia 30322, USA.  Presenting Author email address: yangd@wustl.edu  Abstract:  We used high-density diffuse optical tomograph y (HD-DOT ) to image brain function in 102 school -age children with and without autism while  they performed a passive biological motion perception task. Our results show that both  autistic and non -autistic school -age children tolerate HD-DOT , and HD-DOT is sensitive to autism -associated differences in brain function . Introduction:  Recent advances in functional brain imaging show promise to provide valuable  biomarkers of autism spectrum disorder (ASD)  diagnostic likelihood  and behavioral trait severity. However, traditional neuroimaging modalities such as  functional magnetic resonance imaging (fMRI) require participants to remain still in a loud, confined environment, posing difficulties for children, particularly those with ASD. Herein, we aimed to establish the feasibility of high-density diffuse optical tomography (H D-DOT ) [1], a minimally constraining optical neuroimaging modality that can map brain function in an open and naturalistic environment,  to assess brain function in ASD  and non-autistic control (NAC) children using a biological motion perception paradigm  [2]. Methods: We imaged 46 ASD children age 7 -18 years , 49 NAC , and 17 pro band siblings as they viewed coherent and scrambled movie clips  of point -light biological motion . The HD -DOT instrument contain ed a dense array of 96 sources and 92 detectors that support  >1,200 overlapping measurements  within 4cm  per wavelength and provide a smooth sensitivity profile on the cortical surface. Data processing and image reconstruction were performed  using the NeuroDOT pipeline in MATLAB  [1]. We assessed data quality using the  pulse signal -to-noise ratio  (SNR) , good measurements (GM) percentage, and motion levels  with the global variance in the temporal derivative  (GVTD)  [3]. We assessed group -level cortical brain function with statistical parametric mapping. Additionally, we tested for brain -behavior associations with dimensional metrics of autis tic traits, as measured with the Social Responsiveness Scale -2 (SRS) , with hierarchical regression models.  Results: Data quality assessment s revealed  no significant differences in data quality and motion between ASD and NAC . Additionally, confirming results in fMRI studies, we found that NAC participants presented stronger brain activity contrast (coherent > scrambled) than ASD children in six cortical regions related to visual, motor, and social processing. Moreover , regression models revealed multiple cortical regions in ASD  participants where brain function is significantly associated with dimensional measures of autis tic traits .  Conclusion:  This study demonstrates that HD -DOT is sensitive to brain function  that differentiates between NAC and ASD groups and correlates with dimensional measures of ASD traits. Overall, this study highlights the effectiveness of HD -DOT as a comparable tool to fMRI for studying brain function in autistic children throughout childhood development in a naturalistic setting . References:  [1] Eggebrecht A. T. et al.  Nat Photonics  8 (6), 448 -454 (2014).[2] Kaiser, M. D. et al. Proc. Natl. Acad. Sci. 107, 21223 –21228(2010).[3]Sherafati, A. et al. Hum. Brain Mapp . 41, 4093 –4112 (2020).Figure 1 | Establishing feasibility for HD -DOT to measure brain function in autistic children.  A HD-DOT array on a school age participant. B The study design. C The field of view of the HD -DOT system. D Data quality assessment s. E Within - and between -group random effect unthresholded t -maps  and c luster -corrected  maps (voxel -wise p < 0.0075 and FDR -corrected at a cluster of p < 0.00125 ). 2 of 398\n"
     ]
    }
   ],
   "source": [
    "data['pages'] = [page.replace('\\n', '') for page in data['pages']]\n",
    "print(data['pages'][0])"
   ]
  },
  {
   "cell_type": "code",
   "execution_count": 11,
   "metadata": {},
   "outputs": [
    {
     "data": {
      "text/plain": [
       "387"
      ]
     },
     "execution_count": 11,
     "metadata": {},
     "output_type": "execute_result"
    }
   ],
   "source": [
    "# Rearrange the data into the desired format\n",
    "formatted_data = [\n",
    "    {\"title\": f\"Page {i+1}\", \"content\": page}\n",
    "    for i, page in enumerate(data['pages'])\n",
    "]\n",
    "len(formatted_data)"
   ]
  },
  {
   "cell_type": "code",
   "execution_count": 12,
   "metadata": {},
   "outputs": [],
   "source": [
    "def connect_db():\n",
    "    return psycopg2.connect(\n",
    "        host='localhost',\n",
    "        database = 'postgres',\n",
    "        user = 'postgres',\n",
    "        password = 'password',\n",
    "        port = '6000'\n",
    "    )"
   ]
  },
  {
   "cell_type": "code",
   "execution_count": 13,
   "metadata": {},
   "outputs": [],
   "source": [
    "conn = connect_db()\n",
    "cur = conn.cursor()\n",
    "cur.execute(\"\"\" \n",
    "    CREATE TABLE IF NOT EXISTS documents (\n",
    "            id SERIAL PRIMARY KEY,\n",
    "            title TEXT,\n",
    "            content TEXT,\n",
    "            embedding VECTOR(768)\n",
    "            );\n",
    "\"\"\")\n",
    "conn.commit()\n",
    "cur.close()\n",
    "conn.close()"
   ]
  },
  {
   "cell_type": "code",
   "execution_count": 16,
   "metadata": {},
   "outputs": [],
   "source": [
    "conn = connect_db()\n",
    "cur = conn.cursor()\n",
    "\n",
    "# use the port at which your ollama service is running.\n",
    "for doc in formatted_data:\n",
    "    cur.execute(\"\"\"\n",
    "        INSERT INTO public.documents (title, content, embedding)\n",
    "        VALUES (\n",
    "            %(title)s,\n",
    "            %(content)s,\n",
    "            ollama_embed('nomic-embed-text', concat(%(title)s, ' - ', %(content)s), _host=>'http://ollama_fnirs:11434')\n",
    "        )\n",
    "    \"\"\", doc)\n",
    "\n",
    "conn.commit()\n",
    "cur.close()\n",
    "conn.close()"
   ]
  },
  {
   "cell_type": "code",
   "execution_count": 17,
   "metadata": {},
   "outputs": [
    {
     "name": "stdout",
     "output_type": "stream",
     "text": [
      "Title: Page 1, Content: Mapping neural correlates of biological motion perception in autistic children using high -density diffuse optical tomography  Dalin Yang1, Alexandra M. Svoboda1, Tessa G. George1, Patricia K. Mansfield1, Muriah D. Wheelock1, Mariel L. Schroeder1, Sean M. Rafferty1, Arefeh Sherafati1, Kalyan Tripathy1, Tracy Burns -Yocum1, Elizabeth Forsen1, John R. Pruett, Jr2, Natasha M. Marrus2, Joseph P. Culver1, John N. Constantino3, Adam T. Eggebrecht11Washington University School of Medicine,  Mallinckrodt Institute of Radiology, St. Louis, Missouri 63110, USA . 2Washington University School of Medicine, Department of Psychiatry, St. Louis, Missouri, 63110, USA. 3Emory University School of Medicine, Department of Psychiatry, Atlanta, Georgia 30322, USA.  Presenting Author email address: yangd@wustl.edu  Abstract:  We used high-density diffuse optical tomograph y (HD-DOT ) to image brain function in 102 school -age children with and without autism while  they performed a passive biological motion perception task. Our results show that both  autistic and non -autistic school -age children tolerate HD-DOT , and HD-DOT is sensitive to autism -associated differences in brain function . Introduction:  Recent advances in functional brain imaging show promise to provide valuable  biomarkers of autism spectrum disorder (ASD)  diagnostic likelihood  and behavioral trait severity. However, traditional neuroimaging modalities such as  functional magnetic resonance imaging (fMRI) require participants to remain still in a loud, confined environment, posing difficulties for children, particularly those with ASD. Herein, we aimed to establish the feasibility of high-density diffuse optical tomography (H D-DOT ) [1], a minimally constraining optical neuroimaging modality that can map brain function in an open and naturalistic environment,  to assess brain function in ASD  and non-autistic control (NAC) children using a biological motion perception paradigm  [2]. Methods: We imaged 46 ASD children age 7 -18 years , 49 NAC , and 17 pro band siblings as they viewed coherent and scrambled movie clips  of point -light biological motion . The HD -DOT instrument contain ed a dense array of 96 sources and 92 detectors that support  >1,200 overlapping measurements  within 4cm  per wavelength and provide a smooth sensitivity profile on the cortical surface. Data processing and image reconstruction were performed  using the NeuroDOT pipeline in MATLAB  [1]. We assessed data quality using the  pulse signal -to-noise ratio  (SNR) , good measurements (GM) percentage, and motion levels  with the global variance in the temporal derivative  (GVTD)  [3]. We assessed group -level cortical brain function with statistical parametric mapping. Additionally, we tested for brain -behavior associations with dimensional metrics of autis tic traits, as measured with the Social Responsiveness Scale -2 (SRS) , with hierarchical regression models.  Results: Data quality assessment s revealed  no significant differences in data quality and motion between ASD and NAC . Additionally, confirming results in fMRI studies, we found that NAC participants presented stronger brain activity contrast (coherent > scrambled) than ASD children in six cortical regions related to visual, motor, and social processing. Moreover , regression models revealed multiple cortical regions in ASD  participants where brain function is significantly associated with dimensional measures of autis tic traits .  Conclusion:  This study demonstrates that HD -DOT is sensitive to brain function  that differentiates between NAC and ASD groups and correlates with dimensional measures of ASD traits. Overall, this study highlights the effectiveness of HD -DOT as a comparable tool to fMRI for studying brain function in autistic children throughout childhood development in a naturalistic setting . References:  [1] Eggebrecht A. T. et al.  Nat Photonics  8 (6), 448 -454 (2014).[2] Kaiser, M. D. et al. Proc. Natl. Acad. Sci. 107, 21223 –21228(2010).[3]Sherafati, A. et al. Hum. Brain Mapp . 41, 4093 –4112 (2020).Figure 1 | Establishing feasibility for HD -DOT to measure brain function in autistic children.  A HD-DOT array on a school age participant. B The study design. C The field of view of the HD -DOT system. D Data quality assessment s. E Within - and between -group random effect unthresholded t -maps  and c luster -corrected  maps (voxel -wise p < 0.0075 and FDR -corrected at a cluster of p < 0.00125 ). 2 of 398, Embedding Dimensions: 768\n",
      "Title: Page 2, Content: Functional speciali sation in the first years of life : longitudinal characterisation of  social perception  with fNIRSJ Benerradi  a, C Bulgarelli  b, A Blasi c, B Blanco  a, S McCann  d, B Milosavljevic e, E Mbye f, E Touray f,S Moore d, f, C Elwell c, S Lloyd -Fox a, The BRIGHT  Teama Psychology, University of Cambridge , UK ; b Psychological Sciences, Birkbeck University of London, UK ; cMedical  Physics & Biomedical Engineering, University College London , UK; d Women & Children's Health, King’s College London , UK ; e Biological and Behavioural Science s, Queen Mary  University of London, UK ; f The Medical Research Council Unit The Gambia  at the  London School of Hygiene and Tropical Medicine, The Gambia  Presenting Author email address:  jb2615@cam.ac.uk  Abstract:   By studying brain  response s to social perception longitudinally in infants and children  in The Gambia , we found that social vocal stimuli elicit ed a significantly slower and stronger response than auditory non -vocal stimuli across all 6 age points collected in the  Brain Imaging for Global Health (BRIGHT)  project from 5 months to 5 years old . We show the advantage of studying brain activation informed by the  speed and magnitude of the response  with functional near -infrared spectroscopy (fNIRS)  to characterise the brain response  more comprehensively . Introduction : Infants and children in low- and middle -income countries have historically been under -represented in neurodevelopmental research , despite being often exposed to early adversity  which can impact cognitive development.  The Brain Imaging for Global Health (BRIGHT) project enabled  the collection of a large  dataset  for studying cognitive development  longitudinally  from birth to 5 years old  in The Gambia and UK1. While social processing has beenstudied often in infants younger than 1 year  of age  in high -income countries , we here present findings with functional near-infrared spectroscopy ( fNIRS ) on a social task in the Gambian cohort  from 5 to 60 months . Methods: Participants  were presented with social videos  accompanied by vocal and non -vocal sounds  following a block desig n; a study paradigm common in previous literature and adapted to the local context2. Participants were tested  at 5 months ( N=127 ), 8months ( N=110), 12 months ( N=116), 18 months ( N=111), 24months ( N=112) and 60 months ( N=124) with fNIRS  from thetemporal and inferior frontal brain regions . Channels with low scalp coupling were pruned and  motion artefacts  corrected using  spline  interpolation  and wavelet  filtering3. The data was converted into oxy -(HbO)  and deoxy -haemoglobin  (HbR ), and blocks were averaged for each condition ( vocal or non-vocal ). We studied longitudinally  the average time -to-peak  (speed)  and peak amplitude  (magnitude)  of the haemodynamic response function (HRF) , for each condition , which informed  the appropriate time  window to selected for  statistical analysis on  HbO and HbR  to investig ate brain  activation . Results: We found  a significantly greater activation  in response to vocal  compared to non -vocal  stimuli across all ages, located  bilaterally  in temporal regions but also in  the inferior frontal gyr i. This become s more widespread with ag e, with activation on 8 out of 34 channels at 5 months compared to  21 out of 34 at 60 months  on this vocal minus non -vocal contrast . Furthermore, HbO  and HbR  reach ed their peak amplitude significantly slower in response to social vocal compared to non -vocal stimuli (Fig. 1 ) consistentlyfrom 5 to 60 months (all p -values < 0.05  except HbR  at 60 months  where p-value < 0.1 ), with the absolute amplitude of the peak  also appear ing to decrease with age up to 24 months .Conclusion:  Studying  the speed  and magnitude of the response with fNIRS  enabled to have more details about the brain response s to social perception  in infants and children  longitudinally , but also to inform the time  window on which to focus statistical analysis . Ongoing work is now investigating whether amplitude and time -to-peak change as a function of the cortical location  to gain further  insight into  the dynamics of the response  across ages . 1. S Lloyd -Fox et al. , 2023  - 2. S Lloyd -Fox et al. , 2014  - 3. C Bulgarelli et al. , 2020Fig. 1: Characteristics of the HRF across ages3 of 398, Embedding Dimensions: 768\n",
      "Title: Page 3, Content: Developmental changes in neurocognitive function in a large low-to-middle-income cohort.  Sobanawartiny Wijeakumara, Samuel H. Forbesb, Vincent A. Magnottac, Vinay P. Singhd, Madhuri Tiwarid, Aarti Kumard, John P. Spencere & Project INDIA teamda. School of Psychology, University of Nottingham, NG7 2RD, Nottingham, England, U.K.b. Department of Psychology, Durham University, DH1 3LE, Durham, England, U.K.c. Department of Radiology, University of Iowa, Iowa, U.S.A.d. Community Empowerment Lab, Lucknow, Uttar Pradesh, India.e. School of Psychology, University of East Anglia, NR4 7TJ, Norwich, England U.K.Presenting author: sobanawartiny.wijeakumar@nottingham.ac.uk  Abstract:  The nature of early developmental changes in neurocognitive function in children  in low -to-middle -income countries (LMIC) are under -explored. To address this, we examined longitudinal changes in visual neurocognition  from infancy to toddlerhood in 6- and 9 -month -old children from low and middle/ high socioeconomic status (SES) backgrounds in a large LMIC  cohort. We found that there were developmental changes in both behavioural performance and associated left -lateralized parietal activation from infancy to toddlerhood, with mor e robust changes in children from the high SES 9 -month -old cohort. Our findings contribut e to the growing literature on neurocognition in children from LMIC countries.  Introduction : Each year, 250  million children in  LMIC  fail to reach their developmental potential . Despite this, the nature of developmental changes in neurocognitive function in the first 1000 days of life remains under -explored , especially using longitudinal methods. In the current study,  we first examined developmental changes in visual neurocognition from infancy to toddlerhood in children in rural India. Second, we inquired whether these changes varied as a function of age and SES. Methods:  High and low SES families with  6-month -old and 9 -month -old infants from in and around Shivgarh, rural Uttar Pradesh, India  took part in the study  (N=223 infants) . Data were collected from these families  at two time-points.  At the first time -point  during infancy , children were 6 or 9 months of age, and at the second time -point  during toddlerhood , they were 18 or 21 months of age, respectively. Visual cognition  was assessed at both time-points using a preferential looking task. In this task, two side -by-side blinking displays of colored squares were presented, with one side showing a change in colors, while the colors on the other side stayed constant. Load was varied between 1 and 3 items during infancy  and between 2 and 6 items during toddlerhood . Portable eye -tracking and video rec ordings were used to extract looking behaviour , and functional near -infrared spectroscopy was used to collect brain function while children  engaged with the task.  Two key measures of visual cognition were extracted – total looking time (TLT) was calculated by summing the total time spent looking at both sides and, a change preference (CP) score was calculated by dividing the total time spent looking at the changing side divided by TLT. Image reconstruction techniques were used to transform channel -based neuroimaging data into voxel space  using segmented head volumes obtained from MRI scans . Linear mixed effects modelling was used to examine developmental changes and associations with age and SES.  Results. Our behavioural results revealed two key interactions involving age and SES. First, there was a positive association between CP scores during infancy and CP  scores during toddlerhood; however, th is association was stronger for high SES children  compared to low SES children . Second , we found that the positive association between CP scores in infancy and toddlerhood was generally stronger for the 9-month -old cohort  compared to 6 -month -old cohort , except for the low SES 9 -month -old cohort  with longer TLT. Our brain results revealed engagement across canonical regions of the frontoparietal visual cognition network.  There were developmental and SES -related effects in  left-lateralized anterior intraparietal sulcus  (laIPS) , a region in the dorsal attention network associated with maintaining working memory representations  and impacted by stunting status as demonstrated by our previous work . Specifically, the 9 -month -old cohort showed greater laIPS activation from infancy to toddlerhood, compared to the 6 -month -old cohort. Activation in this region was also associated with behavioural measures : children with better CP scores showed an increase in laIPS activation from infancy to toddlerhood compared to children with lower CP scores.  Conclusions.  Our findings show that developmental changes in neurocognitive function in the first 1000 days of life are affected by SES and cohort effects, thus, uniquely  contribut ing to the growing literature on neurocognition in children from LMIC countries.  4 of 398, Embedding Dimensions: 768\n",
      "Title: Page 4, Content: Dissecting neural and physiological correlates of affective and cognitive empathy in preschoolers C. Bulgarelli1, P. Pinti1, T. Bazelmans2 and E.J.H. Jones11Centre for Brain and Cognitive Development, Birkbeck, University of London, UK.2Institute of Psychiatry, Psychology and Neuroscience (IoPPN), King's College London, UK  Corresponding author e -mail address: c.bulgarelli@bbk.ac.uk  Abstract:  Unders tanding neural and physiological markers of empathy development is pivotal, yet there are no appropriate tasks to assess them . We designed a new block -design task and measured fNIRS and heart rate responses to emotional and neutral scenarios in 43 3 -to-5-year-olds. We found that preschoolers’ network specialisation for empathy is similar to adults, and that heart rate significantly decreased for negative emotional scenarios. This work may provide insights  into the  mechanisms underlying  empathy development and offer  a task for future studies.   Introduction:  Empathy is fundamental for bonds and social interactions1, but mechanisms behind its development are unclear. Adult studies suggest that there are two components of empathy, an affective  one (sharing someone else’s emotion) , supported by the medial prefrontal cortex (MPFC) and superior temporal gyrus (STG) , and a cognitive one (understanding someone else’s emotion), supported by the dorsolateral prefrontal cortex (DLPFC) and temporoparietal junction (TPJ)2. Which component develop s first is debated3. Toddlerhood is the appropriate age to study this, as from 2 years, toddlers differentiate their emotions originated from others ’4. Tasks used so far to assess the development of empathy might not be appropriate, as most relied on children’s verbal skills, and used different scenarios for  empath y components . Here  we aim : i)to propose a new task to assess neural and physiological markers  of empathy in toddlers; ii)to explore whether brain regions supporting  empathy in adultsare activated in toddlers; i ii)to explore any developmentalchanges in the emerge nce of empathic component s.Methods: We designed a new block -design task, in which 3 -to-5-year-olds are exposed to emotional (positive and negative) andneutral scenarios  and then asked about characters’ emotions . Werecorded neural  and physiological responses to these scenariossimultaneously, using fNIRS on  the frontal and temporoparietalcortex and  heart rate. fNIRS channels without clear heart -ratesignal were pruned using QT -NIRS5, and motion artefacts werecorrected with wavelet6. Data were  band -pass filtered , oxygenated and deoxygenated blood changes were  analysed with a GLM approach.  Data collection is ongoing . Results: Preliminary results from 43 3-to-5-year-olds showed: i)activation in right MPFC and bilateral  STG for affective empathy; ii)activation in bilateral DLPFC and TPJ for cognitive empathy (all p<0.02) (Fig. 1A). Right DLPFC activation for cognitive empathy decreased  with age, left STG activation for affective empathy increased  with age (Fig. 1B). There was a significant decrease in heart rate (greater interbeat interval)  for negative emotional events, compared to the scenario set -up (Fig. 2). Conclusion: . Regions activated by affective and cognitive empathy in preschoolers are consistent with the adult ones2, suggesting networks specialisation to empathy already at preschool age. There seems to be an effect of age, which may suggest that affective empathy develops after cognitive empathy . The decreased hear rate only for negative emotional scenarios sugges ts that the first physiological empathic reactions might arise for others’ negative emotions . This new task to assess neural and physiological responses of empathy in preschoolers  can be used in future studies. Next steps involve using more sophisticated analysis to investigate the effect of age and gender on these responses, and including physiological and neural responses in a unique GLM model.  1.Bernhardt, Singer. Annu. Rev. Neurosci.  (2012) 2.Shamay -Tsoory . Neuroscientist  (2011).  3.Bulgarelli, Jones, JCPP Adv.  (2023) 4.Amsterdam,Dev. Psychobiol.  (1972). 5.Montero Hernandez, Gervain, Pollonini. fNIRS 2022, Boston, USA  (2022). 6.Molavi, Dumont. Physiol Meas  (2012).  ABABFig1. A) Bar plots of the mean beta values . B) Scatterplots of the relationship brain activations and age. Fig 2. Average heart rate (interbeat interval) by type and part of the scenarios. 5 of 398, Embedding Dimensions: 768\n",
      "Title: Page 5, Content: Developmental Alterations in Brain Network Asymmetry in 3-9 Month Infants with Congenital Sensorineural Hearing Loss   Zhenyan Hu1,†, Guangfang Liu1,†, Xin Zhou2,†, Yidi Liu2, Endi Huo1, Heather Bortfeld3, Haihong Liu 2, *, Haijing Niu1,*  1State Key Laboratory of Cognitive Neuroscience and Learning  Beijing Normal University, Beijing, China,  2 Department of Otolaryngology Head and Neck Surgery, Beijing Children's Hospital, Capital Medical University, National Center for Children's Health, Beijing, China  3University of California, Merced, Departments of Psychological Sciences and Cognitive and Information Sciences  California, United States  †These authors contributed equally to this work  *Corresponding Author: Haijing  Niu, E -mail: niuhjing@bnu.edu.cn ; Haihong Liu, Email: haihongliu6@aliyun.com   Abstract:  Auditory exposure is crucial  for brain development and the generation  of functional network lateralization . However, whether and how an initial lack of auditory exposure in early infancy may disrupt the development of functional network lateralization  remains unknown . Using resting -state functional near -infrared spectroscopy (fNIRS), we constructed hemispheric functional network s based on graph theory  and observed disrupted asymmetrical developmental patterns on global, local, and nodal frontal efficiencies in infants aged 3 -9 months  with con genital sensorineural hearing loss (SNHL).  These findings  highlight  the significance of  auditory exposure for early multisensory functional integration.   Introduction:  Sensorineural hearing loss (SNHL) is the most prevalent congenital sensory deficit in neonates. Hemispheric asymmetry  is considered one of the cardinal features of human brain development  and the asymmetry of functional network organization  has been shown to be associated with early development.  While atypical hemispheric asymmetry has been observed in individuals with congenital hearing loss during adolescence or adulthood , it remains unclear how this asymmetry develops in infants with congen ital SNHL . This study aims to explore the asymmetrical developmental trajectories of functional cortical networks in SNHL infants aged 3 -9 months.  The findings will enhance our understanding of cortical development across two hemispheres in congenital SNHL infants.   Methods: In this study, resting -state fNIRS data were collected  from 52 SNHL infants aged 3 -9 months and 60 age -matched typically developing (TD) infants . Subsequently, hemispheric functional networks were constructed and the topological network efficiencies (i.e., global, local, and nodal efficiencies) as well as the efficiency asymmetry index (AI) were computed using graph theory approaches . Then, the AI of global , local or nodal efficiency was assessed for age-related changes in both groups using general linear models (GLM). Finally, correlations between age and AI of network efficiencies were calculated to elucidate developmental trajector y details .  Results: The asymmetrical developmental trajectories of the two groups were significantly different , with a significant group × age interaction for AI of global efficiency (p = 0.022) and marginally significant interactions for AI of local efficiency (p =0.064) and frontal nodal efficiency (p =0.078). Further analysis revealed the TD infants showed significant developmental increases in AI of global efficiency (r = 0.31, p =0.015) and nodal frontal efficiency (r = 0.35, p = 0.007), and a trend towards an i ncrease in AI local efficiency (r = 0.21, p =0.099). Nevertheless, the SHNL infants did not show any developmental changes in any efficiency AI measures.   Conclusion:  In summary, the current study  suggests that SNHL infants exhibit disrupted development of cortical lateralization in functional network organization . Figure1: Asymmetrical developmental  differences in (A) global  efficiency, (B) local efficiency and (C) nodal frontal efficiency for TD and SNHL infants . 6 of 398, Embedding Dimensions: 768\n"
     ]
    }
   ],
   "source": [
    "conn = connect_db()\n",
    "cur = conn.cursor()\n",
    "    \n",
    "cur.execute(\"\"\"\n",
    "    SELECT title, content, vector_dims(embedding) \n",
    "    FROM documents\n",
    "    LIMIT 5;\n",
    "\"\"\")\n",
    "\n",
    "rows = cur.fetchall()\n",
    "for row in rows:\n",
    "    print(f\"Title: {row[0]}, Content: {row[1]}, Embedding Dimensions: {row[2]}\")\n",
    "\n",
    "cur.close()\n",
    "conn.close()"
   ]
  },
  {
   "cell_type": "code",
   "execution_count": null,
   "metadata": {},
   "outputs": [],
   "source": []
  }
 ],
 "metadata": {
  "kernelspec": {
   "display_name": "paintrek",
   "language": "python",
   "name": "python3"
  },
  "language_info": {
   "codemirror_mode": {
    "name": "ipython",
    "version": 3
   },
   "file_extension": ".py",
   "mimetype": "text/x-python",
   "name": "python",
   "nbconvert_exporter": "python",
   "pygments_lexer": "ipython3",
   "version": "3.10.14"
  }
 },
 "nbformat": 4,
 "nbformat_minor": 2
}
