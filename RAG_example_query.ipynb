{
 "cells": [
  {
   "cell_type": "code",
   "execution_count": 2,
   "metadata": {},
   "outputs": [],
   "source": [
    "import psycopg2"
   ]
  },
  {
   "cell_type": "code",
   "execution_count": 8,
   "metadata": {},
   "outputs": [],
   "source": [
    "query1 = \"Is there any research using fNIRS to measure brain for meditation?\"\n"
   ]
  },
  {
   "cell_type": "code",
   "execution_count": 9,
   "metadata": {},
   "outputs": [],
   "source": [
    "def connect_db():\n",
    "    return psycopg2.connect(\n",
    "        host='localhost',\n",
    "        database = 'postgres',\n",
    "        user = 'postgres',\n",
    "        password = 'password',\n",
    "        port = '6000'\n",
    "    )"
   ]
  },
  {
   "cell_type": "code",
   "execution_count": 10,
   "metadata": {},
   "outputs": [
    {
     "name": "stdout",
     "output_type": "stream",
     "text": [
      "Title: Page 254\n",
      "Content: fNIRS Short Channel Regression Improves Cortical Activation Estimates of Working Memory Load   An J.1,3, Wyser D.2, Luft A.R.1, Awai Easthope C.3, & Schönhammer J .G.1,3  1. Department of Neurology, University Hospital Zurich, University of Zurich, Zurich, Switzerland  2.  Rehabilitation Engineering  Laboratory, ETH Zurich, Zurich, Switzerland    3.Data Analytics and Rehabilitation Technology Lab, Lake Lucerne Institute, Vi tznau, Switzerland  jiahui.an@ llui.org   Abstract:  Studies of Working Memory (WM) increasingly use functional Near -Infrared Spectroscopy (fNIRS) , especially  because of  its tolerance  to motion  artifacts . However, hemodynamics measured with long -distance channels may originate from both cortex  and scalp . We thus applied  an fNIRS system with long and short separation channels in 20 participants during n-back tasks  to separate cortical and scalp  signal contributions . We used Generalized and Linear Mixed  Models for analysis.  Statistical  effects of the n-back level  on hemodynamic  responses were enhanced  through  Short Channel Regression (SCR) , hence  demonstrat ing that SCR improves validity and accuracy of fNIRS measurements of cortical brain activation in WM tasks.   Introduction:  Functional Near -Infrared Spectroscopy (fNIRS) is a valuable tool for investigating the cerebral hemodynamics associated with cognitive functions, such as Working Memory (WM). Prior fNIRS research replicated studies of WM load that used functional Magnetic Resonance Imaging (fMRI), showing that WM load is linked to activity in the Dorsolateral Prefrontal Cortex (DLPFC) and Superi or Parietal Cortex (SPC). However, the validity of fNIRS measurements can be impacted  by scalp hemodynamics. Hence, we  implement ed Short Channel Regression (SCR)  to account for scalp hemodynamic s. By applying  SCR,  specifically  in tasks that manipulate WM load such as the n -back paradigm, we aim to achieve more valid measurements of cerebral activity associated with WM load.    Methods: Our study employed a continuous -wave fNIRS device ( optohive, ETH Zurich, Switzerland) to collect data from 20 young adults (10 males) during 0 to 3 -back tasks. We placed 11 optodes, each comprising a Source (S) and a Detector (D) that form a short channel with a n S-D distance of 7.5 mm. Adjacent optodes  created longer channels with an S -D distance of 30 mm, with long channels overlapping the short ones. The optodes were positioned over two regions of interest, following a previous fMRI study: eight on the DLPFC and three on the SPC. We analyzed hemodynami c activity, both Oxygena ted (HbO) and Deoxygenated Hemoglobin (HbR) of the long channels, using two Generalized Linear Models (GLMs). GLM1 incorporated regressors for different task levels, and GLM2 additionally included the average hemodynamic response of the short channels, ref lecting scalp hemodynamics. These GLMs t-statistics were analyzed with two Linear Mixed Models (L MMs). L MM1 explored global effects with fixed factors of n -back levels and short channels; L MM2 focused on channel -level effects, with fixed factors of n -back levels and long channel s. Both models were controlling for subject variance as random factors.   Results: Most  effects observed with L MMs were larger for GLM2 results, that is, when scalp hemodynamics were considered. Thus, we focus on GLM2 results  here: the n-back factors in L MM1, analyz ing global effects, were significant. Hemodynamic responses  differed  between most  pairs  of n-back levels  for both HbO and HbR  (all |t|> 3.42, p < 0.002), except for  0 and 1-back which only revealed an effect for  HbR (|t|= 4.78, p < 0.001 ), indicat ing that hemodynamic response s were generally larger for higher n -back levels. L MM2 supported  these findings  at channel level , with  one channel over DLPFC show ing significant difference s for all  pairwise comparison s of consecutive n-back levels in HbO  (all |t|> 3. 30, p < 0.013), and most  comparisons for HbR  (all |t|> 2.55, p < 0.022),  except for 0 and 1 -back , and 2 and 3 -back . Notably , in L MM1, the short channels’ averaged HbO  significantly explained variance  (z=2.10 , p=0.035 ), indicating that  the hemodynamic responses in the long channels included scalp hemodynamic s.  Conclusion : This study demonstrated that fNIRS can measure WM load and replicate previous fMRI results. With optodes placed over DLPFC and SPC, it can accurately distinguish between WM load levels, especially between 2 and 1 -back levels. Our current findings showed that long channels contained both cerebral and scalp hemodynamic s, the impact of which could be reduced with SCR. In conclusion, our findings confirmed that fNIRS can measure activity in WM -related areas and demonstrated that incorporating SCR improves the validity and robustness of these measurements.   255 of 398\n",
      "\n",
      "Title: Page 11\n",
      "Content: Cerebral blood flow response to functional stimuli assessed by interferometric  diffuse correlation spectroscopy      Mitchell B. Robinsona, Bin Denga, Ailis Muldoona, Shakeeb Habasha, Maria Angela Franceschinia, Stefan A. Carpa  aAthinoula  A. Martinos Center for Biomedical Imaging, Massachusetts General Hospital, Harvard Medical School, Boston, Massachusetts, United States  mitchell.robinson@mgh.harvard.edu   Abstract:  To date, the majority of  non-invasive functional imaging has utilized signals based on hemoglobin contrast (fNIRS, fMRI). Previous work has documented that responses in microvascular cerebral blood flow (CBF) to functional stimuli are greater than functional responses in cerebral hemoglobin concentration, though portable and non -invasive instrumentation able to measure CBF wi th sufficient SNR and head coverage have been prohibitively expensive.  To address this, we have developed a functional perfusion imaging system based on interferometric  diffuse correlation spectroscopy. In this work, we compare CBF and hemoglobin concentration responses to functional stimuli and demonstrate the feasibility of functional perfusion imaging.   Introduction:  Most optical neuroimaging studies in humans have been based on measuring changes in hemoglobin concentration (functional near -infrared spectroscopy (fNIRS))1, though functional changes in blood flow greatly exceed the changes in the hemoglobin concentration response2,3. Diffuse correlation spectroscopy (DCS) is a comparable NIR optical method that assesses blood flow in tissue, though traditional DCS has insufficient SNR at optode spacings where brain sensitivity is sufficient for adequate measurements4. Recent advances i n DCS technology have enabled improved DCS instruments capable of measuring with both high SNR and high cerebral sensitivity, enabling functional perfusion imaging.  Methods: A multichannel interferometric DCS (iDCS) system  (Figure 1)  adapted from a previously developed single channel system5 is compared to a commercial fNIRS (NIRX Scout) instrument in the assessment of hemodynamic responses to functional stimuli. Motor (finger tapping) and cognitive (mental subtraction) tasks are performed. A common optode design allow s for back -to-back testing.  A GLM analysis framework is then  used to derive functional responses to stimuli.  Results: fiDCS demonstrated localized blood flow changes in the motor cortex area during a contralateral (but not ipsilateral) finger tapping task. Ongoing work is focusing on characterizing the response to cognitive stimuli and comparing perfusion vs hemoglobin response s in conjunction with co -located sequential fNIRS measurements using an NIRx Scout imaging system.  Conclusion:  The improved SNR of our 1064 nm  interferometric DCS instrument allow s for measurements at 3.1 cm inter-optode distance at a sampling rate of 5 Hz. The additional information provided by cerebral blood flow changes has the potential to enable a more complete view of metabolic response for functional brain imaging.   1. Pinti, P. et al.  The present and future use of functional near -infrared spectroscopy (fNIRS) for cognitive neuroscience. Ann N Y Acad Sci  1464, 5–29 (2020).  2. Simon, A. B. & Buxton, R. B. Understanding the dynamic relationship between cerebral blood flow and the BOLD signal: Implicat ions for quantitative functional MRI. Neuroimage  116, 158 (2015).  3. Liang, C. L. et al.  Luminance contrast of a visual stimulus modulates the BOLD response more than the cerebral blood flow response in the human b rain. Neuroimage  64, 104 –111 (2013).  4. Carp, S. A., Robinson, M. B. & Franceschini, M. A. Diffuse correlation spectroscopy: current status and future outlook. Neurophotonics  10, (2023).  5. Robinson, M. B. et al.  Portable, high speed blood flow measurements enabled by long wavelength, interferometric diffuse correlation spectroscopy (LW -iDCS). Sci Rep  13, 1–11 (2023).  6.     Moskowitz, M. A. et al.  Simultaneous imaging of total cerebral hemoglobin concentration, oxygenation, and blood flow during functional activation. Optics  Letters, Vol. 28, Issue 1, pp. 28 -30 28, 28–30 (2003).   Figure  1: Diagram of the functional, interferometric diffuse correlation spectroscopy instrument and optode montage.  12 of 398\n",
      "\n",
      "Title: Page 256\n",
      "Content: fnirsPy : A Sufficient, Easy, and Flexible  fNIRS Data Processing Pipeline Library   Goyal P. 1, An J.2,4, Wyser D.3, Luft A.R.2, Awai Easthope  C.4, & Schönhammer J .G.2,4   1. Graduate Training Center of Neuroscience, University of T übingen, Tübingen, Germany  2. Department of Neurology, University Hospital Zurich, University of Zurich, Zurich, Switzerland   3. Rehabilitation Engineering Laboratory, ETH Zurich, Zurich, Switzerland   4. Data Analytics and Rehabilitation Technology Lab, Lake Lucerne Institute, Vitznau , Switzerland   josef.schoenhammer@ llui.org  Abstract:  Functional near -infrared spectroscopy (fNIRS) gains prominence due to its spatial resolution and resistance to motion artifacts, making it ideal for neuroscience and brain -computer interface applications. However, simplifying and standardizing its data pr ocessing remains a challenge. This project introduced fnirsPy , a wrapper built on MNE -Python and MNE -NIRS that allows easy deployment of customizable end -to-end data processing pipelines with minimal code. It provides a standard pipeline following current recommendations and implements  new preprocessing methods. fnirsPy , tested with data from 22 subjects across two systems, significantly enhances data handling, furthers processing standardization, and improves reproducibility in neuroimaging research.   Introduction:  Functional near -infrared spectroscopy (fNIRS) is a non -invasive neuroimaging technique that is frequently used due to its advantages in spatial resolution and robustness to motion artifacts. However, challenges remain in data processing due to the lack of usable and standardized data processing pipelines.  Usage of existing software and libraries can be non -trivial and requires significant overhead code. This project developed fnirsPy , an open -source wrapper around MNE Python libraries with additional methods and features that makes it easy to deploy complete yet customizable end -to-end data processing pipelines for custom fNIRS data with only a few lines of code. It implements a standardized procedure f or handling data and includes a  default pipeline that adheres to current recommendations for fNIRS data processing. The project aims to make open data processing functionality more usable and to standardize fNIRS data processing to enhance reproducibility across studies.   Methods: fnirsPy  was developed on MNE -Python  [1] and MNE -NIRS  [2] such that a ll MNE functions can still be utilize d harmoniously.  A standard pipeline was implemented the follows current recommendations for fNIRS data processing [3] , as well as  new methods that are not available  in MNE  (e.g., automatic cardiac -signal based channel selection ), and plotting functions following  publication recommendations  [4]. We used data from  overall 22 subjects, collected with  two fNIRS systems  (optohive, ETH Z ürich, Switzerland; Lightnirs, Shimadzu , Japan) , during working memory lab tasks .   Results: The use of fnirsPy  significantly reduced the complexity and amount of code required to process fNIRS data, from data importation to final analysis steps  (see Figure) .  Conclusion:  fnirsPy  offers a user -friendly, flexible tool, such that users can focus on scientific questions without much toil over writing code. The tool adheres to standard data handling, processing, and publication guidelines, thus supporting reproducibility in neuroimaging research. The system is currently in a pre -alpha stage and awaits future development.   References : 1. Gramfort, A. et al. MNE software for processing MEG and EEG data. Neuroimage 86, 446 -460 (2014).  2. Luke, R. et al. Analysis methods for measuring passive auditory fNIRS responses generated by a block -design paradigm. Neurophotonics 8, 025008 (2021).  3. Pinti, P. et al. Current status and issues regarding pre -processing of fNIRS neuroimaging data. Frontiers in H. Neurosc ., 12, 505 (2019).  4. Yücel, M. A. et al. Best practices for fNIRS publications. Neurophotonics 8, 012101 (2021).   Figure: Illustration of the conciseness  and flexibility of data processing with fnirsP y: (A) Reading raw data. (B) The standard pipeline. (C) Custom pipelines . (D) Pooling objects.  ABCD257 of 398\n",
      "\n",
      "Title: Page 60\n",
      "Content: Conflict of interest declaration: AA is a Scientific Consultant for NIRx  Medical Technologies, LLC. AA completed this work prior to his employment with NIRx. NIRx did not review the results nor financially supported this work.    A novel fNIRS approach  for detecting consciousness after acute severe brain injury    Androu Abdalmalak1#, Karnig Kazazian1#, Sergio L. Novi1, Loretta Norton1, Reza Moulavi -Ardakani1, Matthew Kolisnyk1, Teneille E. Gofton1, Rickson C. Mesquita2, Adrian M. Owen1, Derek B. Debicki1  1. Western Institute of Neuroscience, Western University, London, Canada .  2. School of Computer Science, University of Birmingham, Birmingham, UK  Presenting Author email address: aabdalma@uwo.ca  (#These authors contributed equally to the work )  Abstract:  In a series of studies, we evaluated whether  fNIRS can detect  sensory  and command -drive n neural processing in healthy participants and in behaviourally non -responsive patients.  At the individual level, we demonstrate that fNIRS can detect commonly studied resting state networks, sensorimotor processing, speech  perception , and command -driven brain activity. Testing fNIRS with three acutely unresponsive patients , we found that one  could willfully modulate their brain activity  – providing evidence of preserved consciousness despite no observable behavioural signs of awareness. Th ese promising res ults highlight the potential of fNIRS as a tool for uncovering hidden cognitive states in critical care settings.   Introduction:  Recent advancements in functional neuroimaging have demonstrated that some unresponsive patients in the intensive care unit (ICU) retain a level of consciousness that is inconsistent with their behavioural diagnosis of awareness. However, current neuroimaging methods – such as fMRI and EEG – are often impractical to use with this population of patients. fNIRS is a promising alternative ; however, its sensitivity  for detecting the neural correlates of consciousness remains to be established.  In this series of  studies,  we explore whether fNIRS can reliably identify neural correlates of consciousness processing  in healthy participants at the individual -participant level using a sequence  of validated fMRI paradigms . We then use these methods to assess brain activity in acutely unresponsive patients in the ICU.    Methods: A well -established hierarchical paradigm was used to assess basic sensory and higher -level brain function. Specifically, we evaluated neural activity at rest to assess resting -state connectivity, during passive stimulus -based paradigm s assessing sensorimotor processing  (median nerve stimulation) and speech  perceptio n (pseudo -words  and short stories), and during two active tasks (motor imagery and spatial navigation).  A total of 118 datasets were collected from healthy participants across all tasks (age range 20 -48, 62 datasets from females ). Three  acutely unresponsive patients with severe brain injury were also  recruited from the  ICU and assessed with the same tasks. Resting state data was collected for six minutes while task -based paradigms were conducted in a block design with alternating 30 -s cycles of task and rest for a total experiment time ranging from five to fifteen minutes depending on the task. A n fNIRS system with 32 sources and 32 detectors  (NIRScoutXP , NIRx Medical Technologies, LLC) was used with 121 long channels and 8 short channels, providing coverage of the frontal, parietal and temporal regions. The data was corrected for motion artifacts, band -pass filtered , and short channels were regressed in the GLM framework to reduce the effects of systemic physiological noise . For resting state, the time series were pre -whitened and seed -based analysis was used to extract resting state networks. For task -based paradigms, single -level and group -level analys es were conducted to determine the sensitivity of fNIRS to detecting brain activity to each task. A channel was deemed activated  if there was a significant increase (p<0.05) in oxy - and a concurrent decrease in deoxyhe moglobin.   Results: Common resting state networks  were detected in all participants with the frontoparietal and default mode  network s showing the highest degree of similarity across participants ( 74%). The sensitivity to the sensorimotor , speech perception , motor imagery and spatial navigation tasks was 88.3%, 82.8%, 62.5% and 33.3% , respectively.  These results, except for spatial navigation, are in agreement with previous fMRI studies. The low sensitivity to spatial navigation is likely due to  lack of sensitivity to the parahippocampal gyrus . Of the three patients, one showed activity across all tasks that was indistinguishable from healthy controls, suggesting that this patient  had a level of conscious that was entirely inconsistent with their behavioural assessment of awareness .    Conclusion:  This study is the culmination of 4 years of data collection and analysis , where we demonstrated for the first time, the ability of fNIRS to detect residual  and covert  brain function in patients with severe brain injury  using a hierarchical approach . Current work aims at increasing the sample size to better assess the sensitivity and specificity of our approach in patient population. The ultimate goal of this work is to develop a multimodal approach to predict prognosis following a severe brain injury within the first few days of admission to the ICU . 61 of 398\n",
      "\n",
      "Title: Page 318\n",
      "Content: Posture effects in monitoring  fNIRS responses : a pilot study   Augusto Bonilauri1, Giuseppe Baselli1  1Department of Electronics, Information and Bioengineering, Politecnico di Milano, 20133 Milan, Italy  Presenting Author : augusto.bonilauri@polimi.it   Abstract:  This work is aimed to investigate the effect of posture changes  on task -based estimation of cortical activity  and propose a novel method to account them in fNIRS statistical analysis . Five healthy young adults performed a motor task in both sitting and standing conditions reve aling: i) a common variation of physiological spectral components derived from fNIRS data; ii) an improvement in estimating non -significant cortical areas with respect to task conditions. Overall, these preliminary results suggest the importance of characterizing posture interference with fNIRS when considering the progress towards fNIRS monitoring in freely moving environment .   Introduction:  Functional Near -Infrared Spectroscopy  (fNIRS) is gaining relevance as ecological monitoring tool. However, moving towards the monitoring of brain activity in real -life conditions requires accounting for more complex interactions  between fNIRS signals and physiological confounding factors  (von Lühmann  et al., 2021 ) including  posture changes, affecting both cortical oxygenation  (Mol et al., 2022 ) and cardiovascular regulation  (Porta et al., 2022) . This work  addresses the effects of posture changes on a well-established motor task and proposes a novel method to account them in fNIRS statistical analysis .   Methods: Five right -handed healthy young adult participants  (mean age (SD)  27.4 (4.6) years , all males) performed a block -design left - and right -hand grasping task. We employed a NIRSport2 device (NIRx Medizintechnik, Germany)  with 18 long separation and 8 short separation channels (SSC) placed over the left and right motor cortex.  The task was repeated both in sitting and standing positions and randomized across subjects.  Moreover, as benchmark we simulated a known hemodynamic response over 5 -minutes sitting and standing resting -state conditions following the timing of the task. The proposed method for accounting posture changes considers as additi onal GLM regressors the ratio between low frequency oscillations (LFO: 0.04 – 0.15 Hz) vs. cardiac pulsation (0.8 – 1.5 Hz) signals derived from SSC. Subject -level statistical activation maps are finally compared with/without additional LFO/cardiac  regressors and ROI -averaged over left  (L) and right  (R) precentral (Gpre) and postcentral (Gpost) gyri  (Bonilauri et al., 2023) . Results: Overall, we observe  on both tasks and simulations over resting -state conditions: i) a variation in PSD% components in LFO vs. cardiac bandwidths across ROIs, Δ[𝐻𝑏𝑂2] and  Δ[𝐻𝑏𝑅] signals (Figure 1), hence supporting LFO/cardiac signal ratio as additional GLM regressors; ii) the LFO/cardiac regressor implied a  reduction  from 10% to 30% of false positives in  the ipsilateral hemisphere with respect to the hand performing the task  (Figure 2).  Conclusion:  These preliminary results suggest that posture changes have a major impact on the estimation of brain activity and that the spectral content of fNIRS data can represent a viable indicator of these changes.  Therefore, moving towards the monitoring of brain activity  in real -life condition s requires an appropriate characterization of physiological components from fNIRS data. We are currently acquiring more participants to corroborate these results at group -level statistical analyses and on additional experimental paradigms.   Acknowledgements : Funded by  NRRP ( PNC0000003  - ANTHEM).   Figure 1: Variation of power spectral density percentage (PSD%) components regarding Δ[𝐻𝑏𝑂2]-SSC measurements when performing the task in sitting vs. standing  conditions.   Figure 2: Subject -level statistical activation maps related to right -hand grasping in sitting and standing conditions without (l eft panel ) and with (right panel ) additional LFO/cardiac regressors during GLM analysis.  319 of 398\n"
     ]
    }
   ],
   "source": [
    "conn = connect_db()\n",
    "cur = conn.cursor()\n",
    "    \n",
    "# Embed the query using the ollama_embed function\n",
    "cur.execute(\"\"\"\n",
    "    SELECT ollama_embed('nomic-embed-text', %s, _host=>'http://ollama_fnirs:11434');\n",
    "\"\"\", (query1,))\n",
    "query_embedding = cur.fetchone()[0]\n",
    "\n",
    "# Retrieve relevant documents based on cosine distance\n",
    "cur.execute(\"\"\"\n",
    "    SELECT title, content, 1 - (embedding <=> %s) AS similarity\n",
    "    FROM documents\n",
    "    ORDER BY similarity DESC\n",
    "    LIMIT 5;\n",
    "\"\"\", (query_embedding,))\n",
    "\n",
    "rows = cur.fetchall()\n",
    "    \n",
    "# Prepare the context for generating the response\n",
    "context = \"\\n\\n\".join([f\"Title: {row[0]}\\nContent: {row[1]}\" for row in rows])\n",
    "print(context)\n",
    "\n",
    "cur.close()\n",
    "conn.close()"
   ]
  },
  {
   "cell_type": "code",
   "execution_count": 7,
   "metadata": {},
   "outputs": [
    {
     "name": "stdout",
     "output_type": "stream",
     "text": [
      "This appears to be a research article about using functional near-infrared spectroscopy (fNIRS) to measure the brain's response to speech sounds in sleeping infants.\n",
      "\n",
      "Here is a summary of the article:\n",
      "\n",
      "**Objective:** The objective of this study was to investigate the use of fNIRS to assess hearing levels in sleeping infants.\n",
      "\n",
      "**Methodology:**\n",
      "\n",
      "* Seven sleeping infants with no known hearing loss participated in the study.\n",
      "* A 5.4-s speech token (/ba/) was recorded and presented monaurally at varying sound pressure levels (45-90 dB SPL).\n",
      "* fNIRS responses were recorded from bilateral pre-frontal and temporal regions.\n",
      "\n",
      "**Results:**\n",
      "\n",
      "* The analysis of fNIRS data revealed a two-phase response, with a positive peak around 5-6 s from stimulus onset and a negative trough around 10-20 s.\n",
      "* Independent Component Analysis (ICA) was used to extract independent components from the data, which showed that two ICA components consisted of a positive component and a negative component.\n",
      "* The peak amplitudes of the reconstructed components systematically changed with the intensity of the stimulus.\n",
      "\n",
      "**Conclusion:**\n",
      "\n",
      "* The study found that multiple independent response mechanisms contribute to the auditory evoked fNIRS response in sleeping infants.\n",
      "* The extracted features of the fNIRS response can be used to assess hearing levels in this population.\n",
      "* This method has potential for objective assessment of hearing levels, which is not currently available for this age group.\n",
      "\n",
      "**Key findings:**\n",
      "\n",
      "* Two-phase response observed in fNIRS data\n",
      "* Independent Component Analysis (ICA) reveals two ICA components with positive and negative phases\n",
      "* Peak amplitudes of reconstructed components change systematically with stimulus intensity\n",
      "\n",
      "**Clinical significance:**\n",
      "\n",
      "* This study demonstrates the potential of fNIRS to assess hearing levels in sleeping infants, which is a population that currently lacks objective assessment methods.\n",
      "* The findings have implications for early detection and intervention of hearing loss in this age group.\n",
      "\n",
      "Overall, this study contributes to our understanding of the brain's response to speech sounds in sleeping infants and provides new insights into the use of fNIRS as a tool for assessing hearing levels in this population.\n"
     ]
    }
   ],
   "source": [
    "conn = connect_db()\n",
    "cur = conn.cursor()\n",
    "\n",
    "# Generate the response using the ollama_generate function\n",
    "cur.execute(\"\"\"\n",
    "    SELECT ollama_generate('llama3.2', %s, _host=>'http://ollama_fnirs:11434');\n",
    "\"\"\", (f\"Query: {query1}\\nContext: {context}\",))\n",
    "    \n",
    "model_response = cur.fetchone()[0]\n",
    "print(model_response['response'])\n",
    "    \n",
    "cur.close()\n",
    "conn.close()"
   ]
  },
  {
   "cell_type": "code",
   "execution_count": null,
   "metadata": {},
   "outputs": [],
   "source": []
  }
 ],
 "metadata": {
  "kernelspec": {
   "display_name": "paintrek",
   "language": "python",
   "name": "python3"
  },
  "language_info": {
   "codemirror_mode": {
    "name": "ipython",
    "version": 3
   },
   "file_extension": ".py",
   "mimetype": "text/x-python",
   "name": "python",
   "nbconvert_exporter": "python",
   "pygments_lexer": "ipython3",
   "version": "3.10.14"
  }
 },
 "nbformat": 4,
 "nbformat_minor": 2
}
